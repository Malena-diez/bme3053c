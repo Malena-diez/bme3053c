{
  "nbformat": 4,
  "nbformat_minor": 0,
  "metadata": {
    "colab": {
      "provenance": [],
      "authorship_tag": "ABX9TyPBoom3SeHryGUOCX+1Z2GC",
      "include_colab_link": true
    },
    "kernelspec": {
      "name": "python3",
      "display_name": "Python 3"
    },
    "language_info": {
      "name": "python"
    }
  },
  "cells": [
    {
      "cell_type": "markdown",
      "metadata": {
        "id": "view-in-github",
        "colab_type": "text"
      },
      "source": [
        "<a href=\"https://colab.research.google.com/github/Malena-diez/bme3053c/blob/main/CompleteCompAppsHW2.ipynb\" target=\"_parent\"><img src=\"https://colab.research.google.com/assets/colab-badge.svg\" alt=\"Open In Colab\"/></a>"
      ]
    },
    {
      "cell_type": "code",
      "execution_count": null,
      "metadata": {
        "id": "Edmj8RNNrUgh",
        "colab": {
          "base_uri": "https://localhost:8080/"
        },
        "outputId": "08a8e249-d7e8-47a4-ff8d-852ac5764bd6"
      },
      "outputs": [
        {
          "output_type": "stream",
          "name": "stdout",
          "text": [
            "Normalized blood pressure readings: \n",
            "[0.0, 0.32075471698113206, 0.5849056603773585, 0.05660377358490566, 0.7924528301886793, 1.0, 0.1320754716981132, 0.6415094339622641]\n"
          ]
        }
      ],
      "source": [
        " bp_readings = [120, 137, 151, 123, 162, 173, 127, 154]\n",
        "\n",
        "def normalize_readings(readings):\n",
        "  max_value=max(readings)\n",
        "  min_value=min(readings)\n",
        "\n",
        "  normalized_values=[(x-min_value)/(max_value-min_value) for x in readings]\n",
        "  return normalized_values\n",
        "\n",
        "normalized_bp_readings=normalize_readings(bp_readings)\n",
        "print(\"Normalized blood pressure readings: \")\n",
        "print(normalized_bp_readings)"
      ]
    }
  ]
}