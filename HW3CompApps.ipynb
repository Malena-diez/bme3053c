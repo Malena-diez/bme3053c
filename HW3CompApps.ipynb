{
  "nbformat": 4,
  "nbformat_minor": 0,
  "metadata": {
    "colab": {
      "provenance": [],
      "authorship_tag": "ABX9TyOVUzb5OGA+3dElaO8kSvV6",
      "include_colab_link": true
    },
    "kernelspec": {
      "name": "python3",
      "display_name": "Python 3"
    },
    "language_info": {
      "name": "python"
    }
  },
  "cells": [
    {
      "cell_type": "markdown",
      "metadata": {
        "id": "view-in-github",
        "colab_type": "text"
      },
      "source": [
        "<a href=\"https://colab.research.google.com/github/Malena-diez/bme3053c/blob/main/HW3CompApps.ipynb\" target=\"_parent\"><img src=\"https://colab.research.google.com/assets/colab-badge.svg\" alt=\"Open In Colab\"/></a>"
      ]
    },
    {
      "cell_type": "code",
      "execution_count": 1,
      "metadata": {
        "colab": {
          "base_uri": "https://localhost:8080/"
        },
        "id": "dg4gqyRNJ1Xf",
        "outputId": "e96712cf-3512-40d6-9580-92a149fc499a"
      },
      "outputs": [
        {
          "output_type": "stream",
          "name": "stdout",
          "text": [
            "The number of peaks is: 26\n"
          ]
        }
      ],
      "source": [
        "import math\n",
        "import random\n",
        "\n",
        "ppg_signal = [1000 + 100 * math.sin(0.1 * x) + random.randint(-20, 20) for x in range(100)]\n",
        "\n",
        "def count_number_peaks(signal):\n",
        "    peak_number = 0\n",
        "    for i in range(1, len(signal) - 1):\n",
        "        if signal[i] > signal[i - 1] and signal[i] > signal[i + 1]:\n",
        "            peak_number += 1\n",
        "    print(\"The number of peaks is:\", peak_number)\n",
        "\n",
        "count_number_peaks(ppg_signal)"
      ]
    }
  ]
}